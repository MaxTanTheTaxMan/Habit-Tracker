{
 "cells": [
  {
   "cell_type": "code",
   "execution_count": 5,
   "metadata": {},
   "outputs": [],
   "source": [
    "# M O D U L E S for later\n",
    "\n",
    "#import datetime                             # Allows for date tracking\n",
    "#import pytz\n",
    "#from simple_colors import black             # For bold and italic print statements --> print(black(\"text\", \"format\"))\n",
    "#from time import sleep                      # To add wait time into code "
   ]
  },
  {
   "cell_type": "code",
   "execution_count": 6,
   "metadata": {},
   "outputs": [
    {
     "name": "stdout",
     "output_type": "stream",
     "text": [
      "[['goal1', 'Feb 3rd'], ['goal3', 'Feb 3rd']]\n"
     ]
    }
   ],
   "source": [
    "# EXAMPLE of goal storage\n",
    "\n",
    "allGoals = [[\"goal1\", \"Feb 3rd\"], [\"goal2\", \"Feb 4th\"], [\"goal3\", \"Feb 3rd\"]]\n",
    "'''\n",
    "this list is read like a table:\n",
    "\n",
    "goal name   |   due\n",
    "------------|------------\n",
    "goal1       | Feb 3rd\n",
    "goal2       | Feb 4th\n",
    "goal3       | Feb 3rd\n",
    "\n",
    "'''\n",
    "\n",
    "todayDate = \"Feb 3rd\"\n",
    "todaysGoals = []\n",
    "\n",
    "for goal in allGoals:               # go through each goal in the list\n",
    "    if goal[1] == todayDate:        # if the goal's due date is the same as today's date\n",
    "        todaysGoals.append(goal)    # add the goal to the list of goals for today\n",
    "\n",
    "print(todaysGoals)  # output the list of todays goals"
   ]
  },
  {
   "cell_type": "code",
   "execution_count": 7,
   "metadata": {},
   "outputs": [
    {
     "name": "stdout",
     "output_type": "stream",
     "text": [
      "Your actions are:\n",
      "1) complete a goal\n",
      "2) exit\u0002n\n",
      "\n",
      "\n",
      "Which goal did you complete?\n",
      "1) goal1\n",
      "2) goal3\n",
      "Remaining Goals: [['goal1', 'Feb 3rd']]\n"
     ]
    }
   ],
   "source": [
    "# EXAMPLE completing a goal\n",
    "\n",
    "print(\"Your actions are:\\n1) complete a goal\\n2) exit\\2n\")  # offer user options\n",
    "action = input(\"1 or 2?\")  # get user input based on options\n",
    "print(\"\\n\")\n",
    "\n",
    "if action == \"1\":  # if user chose to complete a goal\n",
    "\n",
    "    print(\"Which goal did you complete?\\n1) {}\\n2) {}\".format(todaysGoals[0][0], todaysGoals[1][0]))  # display user options\n",
    "    completedGoal = input(\"\")  # get user input based on options\n",
    "\n",
    "    if completedGoal == \"1\":    # if user selects 1st goal\n",
    "        todaysGoals.pop(0)      # remove the 1st goal from the list\n",
    "    elif completedGoal == \"2\":  # if user selects 2nd goal\n",
    "        todaysGoals.pop(1)      # remove the 2nd goal from the list\n",
    "\n",
    "print(\"Remaining Goals:\", todaysGoals)"
   ]
  },
  {
   "cell_type": "code",
   "execution_count": 8,
   "metadata": {},
   "outputs": [
    {
     "name": "stdout",
     "output_type": "stream",
     "text": [
      " _______ \n",
      "|_______|\n",
      " \\     /\n",
      "  \\___/  \n",
      "\n",
      "\n",
      "   \\ /   \n",
      " ___|___\n",
      "|_______|\n",
      " \\     /\n",
      "  \\___/  \n"
     ]
    }
   ],
   "source": [
    "# EXAMPLE of reward system\n",
    "def stage1():\n",
    "    print(\" _______ \")\n",
    "    print(\"|_______|\")\n",
    "    print(\" \\     /\")\n",
    "    print(\"  \\___/  \")\n",
    "\n",
    "\n",
    "def stage2():\n",
    "    print(\"   \\ /   \")\n",
    "    print(\" ___|___\")\n",
    "    print(\"|_______|\")\n",
    "    print(\" \\     /\")\n",
    "    print(\"  \\___/  \")\n",
    "\n",
    "\n",
    "stage1()\n",
    "print(\"\\n\")\n",
    "stage2()"
   ]
  }
 ],
 "metadata": {
  "kernelspec": {
   "display_name": "Python 3",
   "language": "python",
   "name": "python3"
  },
  "language_info": {
   "codemirror_mode": {
    "name": "ipython",
    "version": 3
   },
   "file_extension": ".py",
   "mimetype": "text/x-python",
   "name": "python",
   "nbconvert_exporter": "python",
   "pygments_lexer": "ipython3",
   "version": "3.10.4"
  },
  "orig_nbformat": 4,
  "vscode": {
   "interpreter": {
    "hash": "3ad933181bd8a04b432d3370b9dc3b0662ad032c4dfaa4e4f1596c548f763858"
   }
  }
 },
 "nbformat": 4,
 "nbformat_minor": 2
}
